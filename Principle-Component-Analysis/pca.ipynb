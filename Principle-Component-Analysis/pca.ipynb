{
 "cells": [
  {
   "cell_type": "markdown",
   "id": "7aefb3e3",
   "metadata": {},
   "source": [
    "# Example of PCA"
   ]
  },
  {
   "cell_type": "code",
   "execution_count": 1,
   "id": "ef43d0d5",
   "metadata": {},
   "outputs": [],
   "source": [
    "import os\n",
    "import numpy as np\n",
    "from sklearn.preprocessing import StandardScaler"
   ]
  },
  {
   "cell_type": "code",
   "execution_count": 2,
   "id": "24868404",
   "metadata": {},
   "outputs": [],
   "source": [
    "x = [2.5,0.5,2.2,1.9,3.1,2.3,2.0,1.0,1.5,1.1]\n",
    "y = [24,7,29,22,30,27,16,11,16,9]\n",
    "z = [0.4,0.69,1.92,0.75,7.48,4.84,0.06,9.20,5.28,8.79]"
   ]
  },
  {
   "cell_type": "code",
   "execution_count": 3,
   "id": "36c35e73",
   "metadata": {},
   "outputs": [],
   "source": [
    "x = np.array(x)\n",
    "y = np.array(y)"
   ]
  },
  {
   "cell_type": "code",
   "execution_count": 4,
   "id": "6618b6c2",
   "metadata": {},
   "outputs": [
    {
     "data": {
      "text/plain": [
       "Text(0.5, 0, 'X-axis')"
      ]
     },
     "execution_count": 4,
     "metadata": {},
     "output_type": "execute_result"
    },
    {
     "data": {
      "image/png": "[encoded data removed]",
      "text/plain": [
       "<Figure size 432x288 with 1 Axes>"
      ]
     },
     "metadata": {
      "needs_background": "light"
     },
     "output_type": "display_data"
    }
   ],
   "source": [
    "import matplotlib.pyplot as plt\n",
    "plt.scatter(x, y)\n",
    "plt.ylabel(\"Y-axis\")\n",
    "plt.xlabel(\"X-axis\")\n",
    "\n"
   ]
  },
  {
   "cell_type": "code",
   "execution_count": 5,
   "id": "e631ac17",
   "metadata": {},
   "outputs": [
    {
     "data": {
      "text/plain": [
       "(1.81, 0.7449161026585478)"
      ]
     },
     "execution_count": 5,
     "metadata": {},
     "output_type": "execute_result"
    }
   ],
   "source": [
    "np.mean(x), np.std(x)"
   ]
  },
  {
   "cell_type": "code",
   "execution_count": 6,
   "id": "0f837f39",
   "metadata": {},
   "outputs": [],
   "source": [
    "sx = (x-np.mean(x))/np.std(x)"
   ]
  },
  {
   "cell_type": "code",
   "execution_count": 7,
   "id": "d1f6dded",
   "metadata": {},
   "outputs": [
    {
     "data": {
      "text/plain": [
       "array([ 0.92627881, -1.7585873 ,  0.52354889,  0.12081898,  1.73173864,\n",
       "        0.6577922 ,  0.25506228, -1.08737078, -0.41615425, -0.95312747])"
      ]
     },
     "execution_count": 7,
     "metadata": {},
     "output_type": "execute_result"
    }
   ],
   "source": [
    "sx"
   ]
  },
  {
   "cell_type": "code",
   "execution_count": 8,
   "id": "07cf59ec",
   "metadata": {},
   "outputs": [
    {
     "data": {
      "text/plain": [
       "(array([0.85799243, 3.0926293 , 0.27410344, 0.01459722, 2.99891872,\n",
       "        0.43269057, 0.06505677, 1.1823752 , 0.17318436, 0.90845197]),\n",
       " 9.999999999999996,\n",
       " 0.9999999999999997,\n",
       " 1.1111111111111107)"
      ]
     },
     "execution_count": 8,
     "metadata": {},
     "output_type": "execute_result"
    }
   ],
   "source": [
    "xx = sx*sx\n",
    "xx,np.sum(xx), np.sum(xx)/10, np.sum(xx)/9\n"
   ]
  },
  {
   "cell_type": "code",
   "execution_count": 9,
   "id": "4d596a9d",
   "metadata": {},
   "outputs": [
    {
     "data": {
      "text/plain": [
       "array([2.5, 0.5, 2.2, 1.9, 3.1, 2.3, 2. , 1. , 1.5, 1.1])"
      ]
     },
     "execution_count": 9,
     "metadata": {},
     "output_type": "execute_result"
    }
   ],
   "source": [
    "x"
   ]
  },
  {
   "cell_type": "code",
   "execution_count": 10,
   "id": "5db7143a",
   "metadata": {},
   "outputs": [
    {
     "data": {
      "text/plain": [
       "(19.1, 8.030566605165541)"
      ]
     },
     "execution_count": 10,
     "metadata": {},
     "output_type": "execute_result"
    }
   ],
   "source": [
    "np.mean(y),np.std(y)"
   ]
  },
  {
   "cell_type": "code",
   "execution_count": 11,
   "id": "dfcdc8f7",
   "metadata": {},
   "outputs": [],
   "source": [
    "sy = (y-np.mean(y))/np.std(y)"
   ]
  },
  {
   "cell_type": "code",
   "execution_count": 12,
   "id": "c6edb862",
   "metadata": {},
   "outputs": [
    {
     "data": {
      "text/plain": [
       "array([ 0.61016865, -1.506743  ,  1.23278973,  0.36112022,  1.35731394,\n",
       "        0.9837413 , -0.38602507, -1.00864614, -0.38602507, -1.25769457])"
      ]
     },
     "execution_count": 12,
     "metadata": {},
     "output_type": "execute_result"
    }
   ],
   "source": [
    "sy"
   ]
  },
  {
   "cell_type": "code",
   "execution_count": 13,
   "id": "3302d5d9",
   "metadata": {},
   "outputs": [
    {
     "data": {
      "text/plain": [
       "Text(0.5, 0, 'SX-axis')"
      ]
     },
     "execution_count": 13,
     "metadata": {},
     "output_type": "execute_result"
    },
    {
     "data": {
      "image/png": "[encoded data removed]",
      "text/plain": [
       "<Figure size 432x288 with 1 Axes>"
      ]
     },
     "metadata": {
      "needs_background": "light"
     },
     "output_type": "display_data"
    }
   ],
   "source": [
    "plt.scatter(sx, sy)\n",
    "plt.ylabel(\"SY-axis\")\n",
    "plt.xlabel(\"SX-axis\")"
   ]
  },
  {
   "cell_type": "code",
   "execution_count": 14,
   "id": "22e4d2f9",
   "metadata": {},
   "outputs": [],
   "source": [
    "scaler = StandardScaler()\n",
    "data = np.column_stack((x, y))\n",
    "data1 = np.column_stack((sx,sy))"
   ]
  },
  {
   "cell_type": "code",
   "execution_count": 15,
   "id": "6f383263",
   "metadata": {},
   "outputs": [],
   "source": [
    "data_scaled = scaler.fit_transform(data)"
   ]
  },
  {
   "cell_type": "code",
   "execution_count": 16,
   "id": "192f4bc1",
   "metadata": {},
   "outputs": [
    {
     "data": {
      "text/plain": [
       "array([[ 0.92627881,  0.61016865],\n",
       "       [-1.7585873 , -1.506743  ],\n",
       "       [ 0.52354889,  1.23278973],\n",
       "       [ 0.12081898,  0.36112022],\n",
       "       [ 1.73173864,  1.35731394],\n",
       "       [ 0.6577922 ,  0.9837413 ],\n",
       "       [ 0.25506228, -0.38602507],\n",
       "       [-1.08737078, -1.00864614],\n",
       "       [-0.41615425, -0.38602507],\n",
       "       [-0.95312747, -1.25769457]])"
      ]
     },
     "execution_count": 16,
     "metadata": {},
     "output_type": "execute_result"
    }
   ],
   "source": [
    "data_scaled"
   ]
  },
  {
   "cell_type": "code",
   "execution_count": 17,
   "id": "a5b177a0",
   "metadata": {},
   "outputs": [
    {
     "data": {
      "text/plain": [
       "array([[1.11111111, 1.0288103 ],\n",
       "       [1.0288103 , 1.11111111]])"
      ]
     },
     "execution_count": 17,
     "metadata": {},
     "output_type": "execute_result"
    }
   ],
   "source": [
    "cov_matrix = np.cov(data_scaled, rowvar=False)\n",
    "cov_matrix"
   ]
  },
  {
   "cell_type": "code",
   "execution_count": 19,
   "id": "0076077c",
   "metadata": {},
   "outputs": [
    {
     "data": {
      "text/plain": [
       "array([[1.        , 0.92592927],\n",
       "       [0.92592927, 1.        ]])"
      ]
     },
     "execution_count": 19,
     "metadata": {},
     "output_type": "execute_result"
    }
   ],
   "source": [
    "import numpy as np\n",
    "\n",
    "\n",
    "# Calculate the covariance matrix\n",
    "covariance_matrix = np.corrcoef(data_scaled, rowvar=False)\n",
    "covariance_matrix"
   ]
  },
  {
   "cell_type": "code",
   "execution_count": 20,
   "id": "d4a7d99f",
   "metadata": {},
   "outputs": [
    {
     "data": {
      "text/plain": [
       "array([[1.11111111, 1.0288103 ],\n",
       "       [1.0288103 , 1.11111111]])"
      ]
     },
     "execution_count": 20,
     "metadata": {},
     "output_type": "execute_result"
    }
   ],
   "source": [
    "cov_mat = np.cov(data1, rowvar=False)\n",
    "cov_mat"
   ]
  },
  {
   "cell_type": "code",
   "execution_count": 21,
   "id": "6b0cfc36",
   "metadata": {},
   "outputs": [
    {
     "data": {
      "text/plain": [
       "array([[1.        , 0.92592927],\n",
       "       [0.92592927, 1.        ]])"
      ]
     },
     "execution_count": 21,
     "metadata": {},
     "output_type": "execute_result"
    }
   ],
   "source": [
    "cor_mat = np.corrcoef(data, rowvar=False)\n",
    "cor_mat"
   ]
  },
  {
   "cell_type": "code",
   "execution_count": 22,
   "id": "16784e3d",
   "metadata": {},
   "outputs": [
    {
     "data": {
      "text/plain": [
       "(array([2.13992141, 0.08230081]),\n",
       " array([[ 0.70710678, -0.70710678],\n",
       "        [ 0.70710678,  0.70710678]]))"
      ]
     },
     "execution_count": 22,
     "metadata": {},
     "output_type": "execute_result"
    }
   ],
   "source": [
    "eigenvalues, eigenvectors = np.linalg.eig(cov_mat)\n",
    "eigenvalues, eigenvectors"
   ]
  },
  {
   "cell_type": "code",
   "execution_count": 23,
   "id": "1d445eb9",
   "metadata": {},
   "outputs": [
    {
     "data": {
      "text/plain": [
       "(array([1.92592927, 0.07407073]),\n",
       " array([[ 0.70710678, -0.70710678],\n",
       "        [ 0.70710678,  0.70710678]]))"
      ]
     },
     "execution_count": 23,
     "metadata": {},
     "output_type": "execute_result"
    }
   ],
   "source": [
    "eigenvalues, eigenvectors = np.linalg.eig(cor_mat)\n",
    "eigenvalues, eigenvectors"
   ]
  },
  {
   "cell_type": "code",
   "execution_count": 35,
   "id": "e187c533",
   "metadata": {},
   "outputs": [],
   "source": [
    "v1_x = 0.70710678*np.array((0, -2, 2))\n",
    "v1_y = 0.70710678*np.array((0, -2, 2))\n",
    "\n",
    "v2_x = -0.70710678*np.array((0, -2, 2))\n",
    "v2_y = 0.70710678*np.array((0, -2, 2))\n"
   ]
  },
  {
   "cell_type": "code",
   "execution_count": 38,
   "id": "1f02cbb0",
   "metadata": {},
   "outputs": [
    {
     "data": {
      "text/plain": [
       "[<matplotlib.lines.Line2D at 0x7fc7a23fd6a0>]"
      ]
     },
     "execution_count": 38,
     "metadata": {},
     "output_type": "execute_result"
    },
    {
     "data": {
      "image/png": "[encoded data removed]",
      "text/plain": [
       "<Figure size 432x288 with 1 Axes>"
      ]
     },
     "metadata": {
      "needs_background": "light"
     },
     "output_type": "display_data"
    }
   ],
   "source": [
    "plt.scatter(sx, sy)\n",
    "plt.ylabel(\"SY-axis\")\n",
    "plt.xlabel(\"SX-axis\")\n",
    "plt.plot(v1_x, v1_y, color='blue', label='Line')\n",
    "plt.plot(v2_x, v2_y, color='green', label='Line')"
   ]
  },
  {
   "cell_type": "code",
   "execution_count": 60,
   "id": "67cba2cc",
   "metadata": {},
   "outputs": [
    {
     "data": {
      "text/plain": [
       "(0.7071067811865476, 0.7071067811865475)"
      ]
     },
     "execution_count": 60,
     "metadata": {},
     "output_type": "execute_result"
    }
   ],
   "source": [
    "eigenvectors[0,0],eigenvectors[1,0]"
   ]
  },
  {
   "cell_type": "code",
   "execution_count": 64,
   "id": "a660d988",
   "metadata": {},
   "outputs": [],
   "source": [
    "\n",
    "PC1 = sx*eigenvectors[0,0] + sy*eigenvectors[1,0]"
   ]
  },
  {
   "cell_type": "code",
   "execution_count": 74,
   "id": "d59aa527",
   "metadata": {},
   "outputs": [],
   "source": [
    "PC2=sx*eigenvectors[0,1] + sy*eigenvectors[1,1]\n",
    "PC3= sx*0 "
   ]
  },
  {
   "cell_type": "code",
   "execution_count": 73,
   "id": "837e42a8",
   "metadata": {
    "scrolled": true
   },
   "outputs": [
    {
     "data": {
      "text/plain": [
       "<matplotlib.lines.Line2D at 0x7fc7a30dce20>"
      ]
     },
     "execution_count": 73,
     "metadata": {},
     "output_type": "execute_result"
    },
    {
     "data": {
      "image/png": "[encoded data removed]",
      "text/plain": [
       "<Figure size 432x288 with 1 Axes>"
      ]
     },
     "metadata": {
      "needs_background": "light"
     },
     "output_type": "display_data"
    }
   ],
   "source": [
    "plt.scatter(PC1, PC2)\n",
    "plt.ylabel(\"PC2\")\n",
    "plt.xlabel(\"PC1\")\n",
    "plt.ylim(-1.5, 1.5)\n",
    "plt.ylim(-3, 3)\n",
    "plt.axhline(0, color='black', linewidth=0.5, alpha=0.2)  # Draw x-axis at y=0\n",
    "plt.axvline(0, color='black', linewidth=0.5,alpha=0.2)  # Draw y-axis at x=0\n"
   ]
  },
  {
   "cell_type": "code",
   "execution_count": 76,
   "id": "c6eac09c",
   "metadata": {},
   "outputs": [
    {
     "data": {
      "text/plain": [
       "<matplotlib.lines.Line2D at 0x7fc7a31bc5b0>"
      ]
     },
     "execution_count": 76,
     "metadata": {},
     "output_type": "execute_result"
    },
    {
     "data": {
      "image/png": "[encoded data removed]",
      "text/plain": [
       "<Figure size 432x288 with 1 Axes>"
      ]
     },
     "metadata": {
      "needs_background": "light"
     },
     "output_type": "display_data"
    }
   ],
   "source": [
    "plt.scatter(PC1, PC3)\n",
    "plt.ylabel(\"PC2\")\n",
    "plt.xlabel(\"PC1\")\n",
    "plt.ylim(-1.5, 1.5)\n",
    "plt.ylim(-3, 3)\n",
    "plt.axhline(0, color='black', linewidth=0.5, alpha=0.2)  # Draw x-axis at y=0\n",
    "plt.axvline(0, color='black', linewidth=0.5,alpha=0.2)  # Draw y-axis at x=0"
   ]
  },
  {
   "cell_type": "code",
   "execution_count": null,
   "id": "3fefe246",
   "metadata": {},
   "outputs": [],
   "source": []
  }
 ],
 "metadata": {
  "kernelspec": {
   "display_name": "Python 3 (ipykernel)",
   "language": "python",
   "name": "python3"
  },
  "language_info": {
   "codemirror_mode": {
    "name": "ipython",
    "version": 3
   },
   "file_extension": ".py",
   "mimetype": "text/x-python",
   "name": "python",
   "nbconvert_exporter": "python",
   "pygments_lexer": "ipython3",
   "version": "3.8.8"
  },
  "toc": {
   "base_numbering": 1,
   "nav_menu": {},
   "number_sections": true,
   "sideBar": true,
   "skip_h1_title": false,
   "title_cell": "Table of Contents",
   "title_sidebar": "Contents",
   "toc_cell": false,
   "toc_position": {},
   "toc_section_display": true,
   "toc_window_display": false
  }
 },
 "nbformat": 4,
 "nbformat_minor": 5
}
